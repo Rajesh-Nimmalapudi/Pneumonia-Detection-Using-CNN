{
  "cells": [
    {
      "cell_type": "markdown",
      "metadata": {
        "id": "view-in-github",
        "colab_type": "text"
      },
      "source": [
        "<a href=\"https://colab.research.google.com/github/Rajesh-Nimmalapudi/Pneumonia-Detection-Using-CNN/blob/main/pneumonia_final_updated.ipynb\" target=\"_parent\"><img src=\"https://colab.research.google.com/assets/colab-badge.svg\" alt=\"Open In Colab\"/></a>"
      ]
    },
    {
      "cell_type": "code",
      "execution_count": 1,
      "metadata": {
        "colab": {
          "base_uri": "https://localhost:8080/"
        },
        "id": "ZRVnRNrUle4S",
        "outputId": "05f448f2-0c66-4876-f1e8-641764fca259"
      },
      "outputs": [
        {
          "output_type": "stream",
          "name": "stdout",
          "text": [
            "Mounted at /content/drive\n"
          ]
        }
      ],
      "source": [
        "from google.colab import drive\n",
        "drive.mount('/content/drive')"
      ]
    },
    {
      "cell_type": "code",
      "execution_count": null,
      "metadata": {
        "colab": {
          "base_uri": "https://localhost:8080/"
        },
        "collapsed": true,
        "id": "Hx7O8giJlpg4",
        "outputId": "b5d39d73-459e-4226-a0e7-b6ddd8405b07"
      },
      "outputs": [
        {
          "name": "stdout",
          "output_type": "stream",
          "text": [
            "Requirement already satisfied: optuna in /usr/local/lib/python3.11/dist-packages (4.4.0)\n",
            "Requirement already satisfied: mlflow in /usr/local/lib/python3.11/dist-packages (3.1.1)\n",
            "Requirement already satisfied: pyngrok in /usr/local/lib/python3.11/dist-packages (7.2.12)\n",
            "Requirement already satisfied: alembic>=1.5.0 in /usr/local/lib/python3.11/dist-packages (from optuna) (1.16.4)\n",
            "Requirement already satisfied: colorlog in /usr/local/lib/python3.11/dist-packages (from optuna) (6.9.0)\n",
            "Requirement already satisfied: numpy in /usr/local/lib/python3.11/dist-packages (from optuna) (2.0.2)\n",
            "Requirement already satisfied: packaging>=20.0 in /usr/local/lib/python3.11/dist-packages (from optuna) (24.2)\n",
            "Requirement already satisfied: sqlalchemy>=1.4.2 in /usr/local/lib/python3.11/dist-packages (from optuna) (2.0.41)\n",
            "Requirement already satisfied: tqdm in /usr/local/lib/python3.11/dist-packages (from optuna) (4.67.1)\n",
            "Requirement already satisfied: PyYAML in /usr/local/lib/python3.11/dist-packages (from optuna) (6.0.2)\n",
            "Requirement already satisfied: mlflow-skinny==3.1.1 in /usr/local/lib/python3.11/dist-packages (from mlflow) (3.1.1)\n",
            "Requirement already satisfied: Flask<4 in /usr/local/lib/python3.11/dist-packages (from mlflow) (3.1.1)\n",
            "Requirement already satisfied: docker<8,>=4.0.0 in /usr/local/lib/python3.11/dist-packages (from mlflow) (7.1.0)\n",
            "Requirement already satisfied: graphene<4 in /usr/local/lib/python3.11/dist-packages (from mlflow) (3.4.3)\n",
            "Requirement already satisfied: gunicorn<24 in /usr/local/lib/python3.11/dist-packages (from mlflow) (23.0.0)\n",
            "Requirement already satisfied: matplotlib<4 in /usr/local/lib/python3.11/dist-packages (from mlflow) (3.10.0)\n",
            "Requirement already satisfied: pandas<3 in /usr/local/lib/python3.11/dist-packages (from mlflow) (2.2.2)\n",
            "Requirement already satisfied: pyarrow<21,>=4.0.0 in /usr/local/lib/python3.11/dist-packages (from mlflow) (18.1.0)\n",
            "Requirement already satisfied: scikit-learn<2 in /usr/local/lib/python3.11/dist-packages (from mlflow) (1.6.1)\n",
            "Requirement already satisfied: scipy<2 in /usr/local/lib/python3.11/dist-packages (from mlflow) (1.15.3)\n",
            "Requirement already satisfied: cachetools<7,>=5.0.0 in /usr/local/lib/python3.11/dist-packages (from mlflow-skinny==3.1.1->mlflow) (5.5.2)\n",
            "Requirement already satisfied: click<9,>=7.0 in /usr/local/lib/python3.11/dist-packages (from mlflow-skinny==3.1.1->mlflow) (8.2.1)\n",
            "Requirement already satisfied: cloudpickle<4 in /usr/local/lib/python3.11/dist-packages (from mlflow-skinny==3.1.1->mlflow) (3.1.1)\n",
            "Requirement already satisfied: databricks-sdk<1,>=0.20.0 in /usr/local/lib/python3.11/dist-packages (from mlflow-skinny==3.1.1->mlflow) (0.58.0)\n",
            "Requirement already satisfied: fastapi<1 in /usr/local/lib/python3.11/dist-packages (from mlflow-skinny==3.1.1->mlflow) (0.116.0)\n",
            "Requirement already satisfied: gitpython<4,>=3.1.9 in /usr/local/lib/python3.11/dist-packages (from mlflow-skinny==3.1.1->mlflow) (3.1.44)\n",
            "Requirement already satisfied: importlib_metadata!=4.7.0,<9,>=3.7.0 in /usr/local/lib/python3.11/dist-packages (from mlflow-skinny==3.1.1->mlflow) (8.7.0)\n",
            "Requirement already satisfied: opentelemetry-api<3,>=1.9.0 in /usr/local/lib/python3.11/dist-packages (from mlflow-skinny==3.1.1->mlflow) (1.35.0)\n",
            "Requirement already satisfied: opentelemetry-sdk<3,>=1.9.0 in /usr/local/lib/python3.11/dist-packages (from mlflow-skinny==3.1.1->mlflow) (1.35.0)\n",
            "Requirement already satisfied: protobuf<7,>=3.12.0 in /usr/local/lib/python3.11/dist-packages (from mlflow-skinny==3.1.1->mlflow) (5.29.5)\n",
            "Requirement already satisfied: pydantic<3,>=1.10.8 in /usr/local/lib/python3.11/dist-packages (from mlflow-skinny==3.1.1->mlflow) (2.11.7)\n",
            "Requirement already satisfied: requests<3,>=2.17.3 in /usr/local/lib/python3.11/dist-packages (from mlflow-skinny==3.1.1->mlflow) (2.32.3)\n",
            "Requirement already satisfied: sqlparse<1,>=0.4.0 in /usr/local/lib/python3.11/dist-packages (from mlflow-skinny==3.1.1->mlflow) (0.5.3)\n",
            "Requirement already satisfied: typing-extensions<5,>=4.0.0 in /usr/local/lib/python3.11/dist-packages (from mlflow-skinny==3.1.1->mlflow) (4.14.1)\n",
            "Requirement already satisfied: uvicorn<1 in /usr/local/lib/python3.11/dist-packages (from mlflow-skinny==3.1.1->mlflow) (0.35.0)\n",
            "Requirement already satisfied: Mako in /usr/lib/python3/dist-packages (from alembic>=1.5.0->optuna) (1.1.3)\n",
            "Requirement already satisfied: urllib3>=1.26.0 in /usr/local/lib/python3.11/dist-packages (from docker<8,>=4.0.0->mlflow) (2.4.0)\n",
            "Requirement already satisfied: blinker>=1.9.0 in /usr/local/lib/python3.11/dist-packages (from Flask<4->mlflow) (1.9.0)\n",
            "Requirement already satisfied: itsdangerous>=2.2.0 in /usr/local/lib/python3.11/dist-packages (from Flask<4->mlflow) (2.2.0)\n",
            "Requirement already satisfied: jinja2>=3.1.2 in /usr/local/lib/python3.11/dist-packages (from Flask<4->mlflow) (3.1.6)\n",
            "Requirement already satisfied: markupsafe>=2.1.1 in /usr/local/lib/python3.11/dist-packages (from Flask<4->mlflow) (3.0.2)\n",
            "Requirement already satisfied: werkzeug>=3.1.0 in /usr/local/lib/python3.11/dist-packages (from Flask<4->mlflow) (3.1.3)\n",
            "Requirement already satisfied: graphql-core<3.3,>=3.1 in /usr/local/lib/python3.11/dist-packages (from graphene<4->mlflow) (3.2.6)\n",
            "Requirement already satisfied: graphql-relay<3.3,>=3.1 in /usr/local/lib/python3.11/dist-packages (from graphene<4->mlflow) (3.2.0)\n",
            "Requirement already satisfied: python-dateutil<3,>=2.7.0 in /usr/local/lib/python3.11/dist-packages (from graphene<4->mlflow) (2.9.0.post0)\n",
            "Requirement already satisfied: contourpy>=1.0.1 in /usr/local/lib/python3.11/dist-packages (from matplotlib<4->mlflow) (1.3.2)\n",
            "Requirement already satisfied: cycler>=0.10 in /usr/local/lib/python3.11/dist-packages (from matplotlib<4->mlflow) (0.12.1)\n",
            "Requirement already satisfied: fonttools>=4.22.0 in /usr/local/lib/python3.11/dist-packages (from matplotlib<4->mlflow) (4.58.5)\n",
            "Requirement already satisfied: kiwisolver>=1.3.1 in /usr/local/lib/python3.11/dist-packages (from matplotlib<4->mlflow) (1.4.8)\n",
            "Requirement already satisfied: pillow>=8 in /usr/local/lib/python3.11/dist-packages (from matplotlib<4->mlflow) (11.2.1)\n",
            "Requirement already satisfied: pyparsing>=2.3.1 in /usr/local/lib/python3.11/dist-packages (from matplotlib<4->mlflow) (3.2.3)\n",
            "Requirement already satisfied: pytz>=2020.1 in /usr/local/lib/python3.11/dist-packages (from pandas<3->mlflow) (2025.2)\n",
            "Requirement already satisfied: tzdata>=2022.7 in /usr/local/lib/python3.11/dist-packages (from pandas<3->mlflow) (2025.2)\n",
            "Requirement already satisfied: joblib>=1.2.0 in /usr/local/lib/python3.11/dist-packages (from scikit-learn<2->mlflow) (1.5.1)\n",
            "Requirement already satisfied: threadpoolctl>=3.1.0 in /usr/local/lib/python3.11/dist-packages (from scikit-learn<2->mlflow) (3.6.0)\n",
            "Requirement already satisfied: greenlet>=1 in /usr/local/lib/python3.11/dist-packages (from sqlalchemy>=1.4.2->optuna) (3.2.3)\n",
            "Requirement already satisfied: google-auth~=2.0 in /usr/local/lib/python3.11/dist-packages (from databricks-sdk<1,>=0.20.0->mlflow-skinny==3.1.1->mlflow) (2.38.0)\n",
            "Requirement already satisfied: starlette<0.47.0,>=0.40.0 in /usr/local/lib/python3.11/dist-packages (from fastapi<1->mlflow-skinny==3.1.1->mlflow) (0.46.2)\n",
            "Requirement already satisfied: gitdb<5,>=4.0.1 in /usr/local/lib/python3.11/dist-packages (from gitpython<4,>=3.1.9->mlflow-skinny==3.1.1->mlflow) (4.0.12)\n",
            "Requirement already satisfied: zipp>=3.20 in /usr/local/lib/python3.11/dist-packages (from importlib_metadata!=4.7.0,<9,>=3.7.0->mlflow-skinny==3.1.1->mlflow) (3.23.0)\n",
            "Requirement already satisfied: opentelemetry-semantic-conventions==0.56b0 in /usr/local/lib/python3.11/dist-packages (from opentelemetry-sdk<3,>=1.9.0->mlflow-skinny==3.1.1->mlflow) (0.56b0)\n",
            "Requirement already satisfied: annotated-types>=0.6.0 in /usr/local/lib/python3.11/dist-packages (from pydantic<3,>=1.10.8->mlflow-skinny==3.1.1->mlflow) (0.7.0)\n",
            "Requirement already satisfied: pydantic-core==2.33.2 in /usr/local/lib/python3.11/dist-packages (from pydantic<3,>=1.10.8->mlflow-skinny==3.1.1->mlflow) (2.33.2)\n",
            "Requirement already satisfied: typing-inspection>=0.4.0 in /usr/local/lib/python3.11/dist-packages (from pydantic<3,>=1.10.8->mlflow-skinny==3.1.1->mlflow) (0.4.1)\n",
            "Requirement already satisfied: six>=1.5 in /usr/local/lib/python3.11/dist-packages (from python-dateutil<3,>=2.7.0->graphene<4->mlflow) (1.17.0)\n",
            "Requirement already satisfied: charset-normalizer<4,>=2 in /usr/local/lib/python3.11/dist-packages (from requests<3,>=2.17.3->mlflow-skinny==3.1.1->mlflow) (3.4.2)\n",
            "Requirement already satisfied: idna<4,>=2.5 in /usr/local/lib/python3.11/dist-packages (from requests<3,>=2.17.3->mlflow-skinny==3.1.1->mlflow) (3.10)\n",
            "Requirement already satisfied: certifi>=2017.4.17 in /usr/local/lib/python3.11/dist-packages (from requests<3,>=2.17.3->mlflow-skinny==3.1.1->mlflow) (2025.7.9)\n",
            "Requirement already satisfied: h11>=0.8 in /usr/local/lib/python3.11/dist-packages (from uvicorn<1->mlflow-skinny==3.1.1->mlflow) (0.16.0)\n",
            "Requirement already satisfied: smmap<6,>=3.0.1 in /usr/local/lib/python3.11/dist-packages (from gitdb<5,>=4.0.1->gitpython<4,>=3.1.9->mlflow-skinny==3.1.1->mlflow) (5.0.2)\n",
            "Requirement already satisfied: pyasn1-modules>=0.2.1 in /usr/local/lib/python3.11/dist-packages (from google-auth~=2.0->databricks-sdk<1,>=0.20.0->mlflow-skinny==3.1.1->mlflow) (0.4.2)\n",
            "Requirement already satisfied: rsa<5,>=3.1.4 in /usr/local/lib/python3.11/dist-packages (from google-auth~=2.0->databricks-sdk<1,>=0.20.0->mlflow-skinny==3.1.1->mlflow) (4.9.1)\n",
            "Requirement already satisfied: anyio<5,>=3.6.2 in /usr/local/lib/python3.11/dist-packages (from starlette<0.47.0,>=0.40.0->fastapi<1->mlflow-skinny==3.1.1->mlflow) (4.9.0)\n",
            "Requirement already satisfied: sniffio>=1.1 in /usr/local/lib/python3.11/dist-packages (from anyio<5,>=3.6.2->starlette<0.47.0,>=0.40.0->fastapi<1->mlflow-skinny==3.1.1->mlflow) (1.3.1)\n",
            "Requirement already satisfied: pyasn1<0.7.0,>=0.6.1 in /usr/local/lib/python3.11/dist-packages (from pyasn1-modules>=0.2.1->google-auth~=2.0->databricks-sdk<1,>=0.20.0->mlflow-skinny==3.1.1->mlflow) (0.6.1)\n"
          ]
        }
      ],
      "source": [
        "!pip install optuna mlflow pyngrok\n",
        "\n"
      ]
    },
    {
      "cell_type": "code",
      "execution_count": null,
      "metadata": {
        "id": "OLkBsm2Gl8EI"
      },
      "outputs": [],
      "source": [
        "!mkdir -p /content/drive/MyDrive/pneumonia_safe\n"
      ]
    },
    {
      "cell_type": "code",
      "execution_count": 3,
      "metadata": {
        "id": "gwKYGPKzmEWn",
        "colab": {
          "base_uri": "https://localhost:8080/"
        },
        "outputId": "34ce6311-0d3c-465e-8dd3-6430532f0c4b"
      },
      "outputs": [
        {
          "output_type": "stream",
          "name": "stdout",
          "text": [
            "\u001b[2K   \u001b[90m━━━━━━━━━━━━━━━━━━━━━━━━━━━━━━━━━━━━━━━━\u001b[0m \u001b[32m395.9/395.9 kB\u001b[0m \u001b[31m13.8 MB/s\u001b[0m eta \u001b[36m0:00:00\u001b[0m\n",
            "\u001b[2K   \u001b[90m━━━━━━━━━━━━━━━━━━━━━━━━━━━━━━━━━━━━━━━━\u001b[0m \u001b[32m24.7/24.7 MB\u001b[0m \u001b[31m66.3 MB/s\u001b[0m eta \u001b[36m0:00:00\u001b[0m\n",
            "\u001b[2K   \u001b[90m━━━━━━━━━━━━━━━━━━━━━━━━━━━━━━━━━━━━━━━━\u001b[0m \u001b[32m1.9/1.9 MB\u001b[0m \u001b[31m68.9 MB/s\u001b[0m eta \u001b[36m0:00:00\u001b[0m\n",
            "\u001b[2K   \u001b[90m━━━━━━━━━━━━━━━━━━━━━━━━━━━━━━━━━━━━━━━━\u001b[0m \u001b[32m247.0/247.0 kB\u001b[0m \u001b[31m21.3 MB/s\u001b[0m eta \u001b[36m0:00:00\u001b[0m\n",
            "\u001b[2K   \u001b[90m━━━━━━━━━━━━━━━━━━━━━━━━━━━━━━━━━━━━━━━━\u001b[0m \u001b[32m147.8/147.8 kB\u001b[0m \u001b[31m13.7 MB/s\u001b[0m eta \u001b[36m0:00:00\u001b[0m\n",
            "\u001b[2K   \u001b[90m━━━━━━━━━━━━━━━━━━━━━━━━━━━━━━━━━━━━━━━━\u001b[0m \u001b[32m114.9/114.9 kB\u001b[0m \u001b[31m10.7 MB/s\u001b[0m eta \u001b[36m0:00:00\u001b[0m\n",
            "\u001b[2K   \u001b[90m━━━━━━━━━━━━━━━━━━━━━━━━━━━━━━━━━━━━━━━━\u001b[0m \u001b[32m85.0/85.0 kB\u001b[0m \u001b[31m7.3 MB/s\u001b[0m eta \u001b[36m0:00:00\u001b[0m\n",
            "\u001b[2K   \u001b[90m━━━━━━━━━━━━━━━━━━━━━━━━━━━━━━━━━━━━━━━━\u001b[0m \u001b[32m741.4/741.4 kB\u001b[0m \u001b[31m48.4 MB/s\u001b[0m eta \u001b[36m0:00:00\u001b[0m\n",
            "\u001b[2K   \u001b[90m━━━━━━━━━━━━━━━━━━━━━━━━━━━━━━━━━━━━━━━━\u001b[0m \u001b[32m203.4/203.4 kB\u001b[0m \u001b[31m17.9 MB/s\u001b[0m eta \u001b[36m0:00:00\u001b[0m\n",
            "\u001b[2K   \u001b[90m━━━━━━━━━━━━━━━━━━━━━━━━━━━━━━━━━━━━━━━━\u001b[0m \u001b[32m65.6/65.6 kB\u001b[0m \u001b[31m6.4 MB/s\u001b[0m eta \u001b[36m0:00:00\u001b[0m\n",
            "\u001b[2K   \u001b[90m━━━━━━━━━━━━━━━━━━━━━━━━━━━━━━━━━━━━━━━━\u001b[0m \u001b[32m119.4/119.4 kB\u001b[0m \u001b[31m11.7 MB/s\u001b[0m eta \u001b[36m0:00:00\u001b[0m\n",
            "\u001b[2K   \u001b[90m━━━━━━━━━━━━━━━━━━━━━━━━━━━━━━━━━━━━━━━━\u001b[0m \u001b[32m201.6/201.6 kB\u001b[0m \u001b[31m17.3 MB/s\u001b[0m eta \u001b[36m0:00:00\u001b[0m\n",
            "\u001b[?25h"
          ]
        }
      ],
      "source": [
        "import tensorflow as tf\n",
        "from tensorflow.keras.models import Sequential\n",
        "from tensorflow.keras.layers import MaxPooling2D,Conv2D,Flatten,Dense,Dropout\n",
        "from tensorflow.keras.preprocessing.image import ImageDataGenerator\n",
        "import os\n",
        "import zipfile\n",
        "from sklearn.metrics import classification_report,confusion_matrix\n",
        "from tensorflow.keras.callbacks import EarlyStopping\n",
        "import numpy as np\n",
        "import matplotlib.pyplot as plt\n",
        "#importing tools and libraries to set up mlflow and optuna\n",
        "!pip install optuna mlflow pyngrok -q\n",
        "import optuna\n",
        "import mlflow\n",
        "from tensorflow.keras.layers import  BatchNormalization\n",
        "from pyngrok import ngrok, conf\n",
        "import time\n",
        "from tensorflow.keras.layers import Input\n",
        "import subprocess\n",
        "from tensorflow.keras.optimizers import Adam, SGD, RMSprop"
      ]
    },
    {
      "cell_type": "code",
      "execution_count": 4,
      "metadata": {
        "colab": {
          "base_uri": "https://localhost:8080/"
        },
        "id": "AUGp3f4kme9B",
        "outputId": "7a93f526-e2c1-4806-9aa2-6e968a32aec9"
      },
      "outputs": [
        {
          "output_type": "stream",
          "name": "stdout",
          "text": [
            "✅ Dataset extracted to: /content/dataset\n"
          ]
        }
      ],
      "source": [
        "zip_path = '/content/drive/MyDrive/archive (6).zip'  # 👈 Update if yours has a different name\n",
        "extract_path = '/content/dataset'  # You can rename this\n",
        "\n",
        "# Unzipping the file\n",
        "with zipfile.ZipFile(zip_path, 'r') as zip_ref:\n",
        "    zip_ref.extractall(extract_path)\n",
        "\n",
        "print(\"✅ Dataset extracted to:\", extract_path)"
      ]
    },
    {
      "cell_type": "code",
      "execution_count": 5,
      "metadata": {
        "id": "dqcS7k-0mk0e"
      },
      "outputs": [],
      "source": [
        "#paths\n",
        "train_path = \"/content/dataset/chest_xray/chest_xray/train\"\n",
        "val_path   = \"/content/dataset/chest_xray/chest_xray/val\"\n",
        "test_path  = \"/content/dataset/chest_xray/chest_xray/test\"\n"
      ]
    },
    {
      "cell_type": "code",
      "execution_count": 6,
      "metadata": {
        "id": "MZJd5M0bo9H1"
      },
      "outputs": [],
      "source": [
        "#folder to save mllogs\n",
        "!mkdir -p /content/drive/MyDrive/pneumonia_safe/mlruns\n",
        "# saving mlflow logs\n",
        "import os\n",
        "os.environ[\"MLFLOW_TRACKING_URI\"] = \"file:///content/drive/MyDrive/pneumonia_safe/mlruns\"\n"
      ]
    },
    {
      "cell_type": "code",
      "execution_count": null,
      "metadata": {
        "colab": {
          "base_uri": "https://localhost:8080/"
        },
        "id": "OYTF3M5uo4cu",
        "outputId": "199ed302-4d18-43cf-86c0-38ad52fe986d"
      },
      "outputs": [
        {
          "name": "stdout",
          "output_type": "stream",
          "text": [
            "🔗 Open MLflow UI: https://21a31ab4490a.ngrok-free.app\n"
          ]
        },
        {
          "data": {
            "text/plain": [
              "<Experiment: artifact_location='mlflow-artifacts:/405400058810872408', creation_time=1752663788065, experiment_id='405400058810872408', last_update_time=1752663788065, lifecycle_stage='active', name='cnn_pneumonia_tuning_v2', tags={}>"
            ]
          },
          "execution_count": 58,
          "metadata": {},
          "output_type": "execute_result"
        }
      ],
      "source": [
        "\n",
        "\n",
        "\n",
        "conf.get_default().auth_token = \"2zwmiqOFaCXR54eLO603kpMUKFa_7tQpFzvtSD9virmUY996p\"  # Replace with your actual token\n",
        "ngrok.kill()\n",
        "\n",
        "\n",
        "\n",
        "\n",
        "mlflow_port = 5000\n",
        "\n",
        "# ✅ STEP 5: Start MLflow UI\n",
        "mlflow_process = subprocess.Popen([\"mlflow\", \"ui\", \"--port\", str(mlflow_port)])\n",
        "time.sleep(10)\n",
        "\n",
        "# ✅ STEP 6: Expose MLflow UI with ngrok\n",
        "mlflow_url = ngrok.connect(mlflow_port)\n",
        "print(f\"🔗 Open MLflow UI: {mlflow_url.public_url}\")\n",
        "\n",
        "# ✅ STEP 7: Set MLflow Tracking URI to the ngrok public URL\n",
        "mlflow.set_tracking_uri(mlflow_url.public_url)\n",
        "mlflow.set_experiment(\"cnn_pneumonia_tuning_v2\")\n",
        "\n"
      ]
    },
    {
      "cell_type": "code",
      "execution_count": null,
      "metadata": {
        "id": "HUJ2Y86A1N1Y"
      },
      "outputs": [],
      "source": []
    },
    {
      "cell_type": "code",
      "execution_count": null,
      "metadata": {
        "colab": {
          "base_uri": "https://localhost:8080/"
        },
        "id": "hvyNMaybpCje",
        "outputId": "f3d049da-37f6-4347-a2b2-7dc0c0576a86"
      },
      "outputs": [
        {
          "name": "stderr",
          "output_type": "stream",
          "text": [
            "[I 2025-07-16 11:16:08,183] Using an existing study with name 'cnn_pneumonia_tuning_v2' instead of creating a new one.\n"
          ]
        }
      ],
      "source": [
        "study = optuna.create_study(\n",
        "    direction=\"maximize\",\n",
        "    study_name=\"cnn_pneumonia_tuning_v2\",\n",
        "    storage=\"sqlite:///drive/MyDrive/pneumonia_safe/cnn_tuning_v2.db\",\n",
        "    load_if_exists=True\n",
        ")\n"
      ]
    },
    {
      "cell_type": "code",
      "execution_count": 18,
      "metadata": {
        "id": "--MY3Ss5ms0N"
      },
      "outputs": [],
      "source": [
        "\n",
        "\n",
        "train_gen = ImageDataGenerator(\n",
        "    rescale=1./255,\n",
        "    height_shift_range=0.2,\n",
        "    width_shift_range=0.2,\n",
        "    shear_range=0.2,\n",
        "    zoom_range=0.2,\n",
        "    rotation_range=20,\n",
        "    brightness_range=[0.8, 1.2],     # Simulates different exposure levels\n",
        "    horizontal_flip=True,            # Most X-rays are symmetric\n",
        "    fill_mode='nearest'              # Fills empty pixels after shift/rotate\n",
        ")\n",
        "\n",
        "val_gen = ImageDataGenerator(\n",
        "    rescale = 1./255\n",
        ")\n",
        "\n",
        "test_gen = ImageDataGenerator(\n",
        "    rescale = 1./255\n",
        ")\n"
      ]
    },
    {
      "cell_type": "code",
      "execution_count": 19,
      "metadata": {
        "colab": {
          "base_uri": "https://localhost:8080/"
        },
        "id": "MKRGbvs-msxd",
        "outputId": "9655e4f9-974f-44da-9962-4e7ce2432d9f"
      },
      "outputs": [
        {
          "output_type": "stream",
          "name": "stdout",
          "text": [
            "Found 5216 images belonging to 2 classes.\n",
            "Found 16 images belonging to 2 classes.\n",
            "Found 624 images belonging to 2 classes.\n"
          ]
        }
      ],
      "source": [
        "#data generation with augumentation\n",
        "train_data = train_gen.flow_from_directory(\n",
        "    train_path,\n",
        "    target_size = (150,150),\n",
        "    batch_size = 32,\n",
        "    class_mode = 'binary'\n",
        "\n",
        ")\n",
        "val_data = val_gen.flow_from_directory(\n",
        "    val_path,\n",
        "    target_size = (150,150),\n",
        "    batch_size = 32,\n",
        "    class_mode = 'binary'\n",
        "\n",
        ")\n",
        "test_data = test_gen.flow_from_directory(\n",
        "    test_path,\n",
        "    target_size = (150,150),\n",
        "    batch_size = 32,\n",
        "    class_mode = 'binary',\n",
        "    shuffle=False\n",
        "\n",
        ")\n"
      ]
    },
    {
      "cell_type": "code",
      "execution_count": 20,
      "metadata": {
        "colab": {
          "base_uri": "https://localhost:8080/",
          "height": 445
        },
        "id": "LeBxeTO0msuX",
        "outputId": "dcfae638-0b0e-45fc-8b92-86ea0a5ac453"
      },
      "outputs": [
        {
          "output_type": "stream",
          "name": "stdout",
          "text": [
            "Shape of images in a batch: (32, 150, 150, 3)\n"
          ]
        },
        {
          "output_type": "display_data",
          "data": {
            "text/plain": [
              "<Figure size 640x480 with 1 Axes>"
            ],
            "image/png": "[encoded data removed]"
          },
          "metadata": {}
        }
      ],
      "source": [
        "# Get a batch of images and labels from the training data generator\n",
        "images, labels = next(train_data)\n",
        "\n",
        "# Print the shape of the images in the batch\n",
        "print(\"Shape of images in a batch:\", images.shape)\n",
        "\n",
        "# Display the first image in the batch\n",
        "plt.imshow(images[3])\n",
        "plt.title(f\"Label: {labels[3]}\")\n",
        "plt.axis('off')\n",
        "plt.show()"
      ]
    },
    {
      "cell_type": "code",
      "execution_count": null,
      "metadata": {
        "colab": {
          "base_uri": "https://localhost:8080/"
        },
        "id": "yhPRvnKnmsrO",
        "outputId": "4d132596-6edb-49bd-b184-055c6fe980ea"
      },
      "outputs": [
        {
          "metadata": {
            "tags": null
          },
          "name": "stderr",
          "output_type": "stream",
          "text": [
            "/usr/local/lib/python3.11/dist-packages/keras/src/trainers/data_adapters/py_dataset_adapter.py:121: UserWarning: Your `PyDataset` class should call `super().__init__(**kwargs)` in its constructor. `**kwargs` can include `workers`, `use_multiprocessing`, `max_queue_size`. Do not pass these arguments to `fit()`, as they will be ignored.\n",
            "  self._warn_if_super_not_called()\n"
          ]
        },
        {
          "metadata": {
            "tags": null
          },
          "name": "stdout",
          "output_type": "stream",
          "text": [
            "Trial 2 completed → Val Accuracy: 0.5000\n",
            "Params: {'filters': 128, 'kernel_size': 3, 'activation': 'relu', 'dropout': 0.4569608685869849, 'lr': 0.0028894384389506105, 'optimizer': 'rmsprop', 'dense_units': 128, 'init': 'he_uniform', 'batch_norm': True}\n",
            "\n",
            "🔗 View run in MLflow: https://21a31ab4490a.ngrok-free.app/#/experiments/405400058810872408/runs/65f67068886641d68a8144b94ce5dabc\n",
            "🏃 View run skittish-fawn-74 at: https://21a31ab4490a.ngrok-free.app/#/experiments/405400058810872408/runs/65f67068886641d68a8144b94ce5dabc\n",
            "🧪 View experiment at: https://21a31ab4490a.ngrok-free.app/#/experiments/405400058810872408\n"
          ]
        },
        {
          "metadata": {
            "tags": null
          },
          "name": "stderr",
          "output_type": "stream",
          "text": [
            "[I 2025-07-16 11:21:25,482] Trial 2 finished with value: 0.5 and parameters: {'filters': 128, 'kernel_size': 3, 'activation': 'relu', 'dropout': 0.4569608685869849, 'lr': 0.0028894384389506105, 'optimizer': 'rmsprop', 'dense_units': 128, 'init': 'he_uniform', 'batch_norm': True}. Best is trial 2 with value: 0.5.\n"
          ]
        },
        {
          "metadata": {
            "tags": null
          },
          "name": "stdout",
          "output_type": "stream",
          "text": [
            "Trial 3 completed → Val Accuracy: 0.6875\n",
            "Params: {'filters': 32, 'kernel_size': 5, 'activation': 'tanh', 'dropout': 0.2797839072826259, 'lr': 5.803562905169732e-05, 'optimizer': 'adam', 'dense_units': 64, 'init': 'glorot_uniform', 'batch_norm': True}\n",
            "\n",
            "🔗 View run in MLflow: https://21a31ab4490a.ngrok-free.app/#/experiments/405400058810872408/runs/fa68bc5d3f7a459f9007f2cb0de870c1\n",
            "🏃 View run receptive-lamb-146 at: https://21a31ab4490a.ngrok-free.app/#/experiments/405400058810872408/runs/fa68bc5d3f7a459f9007f2cb0de870c1\n",
            "🧪 View experiment at: https://21a31ab4490a.ngrok-free.app/#/experiments/405400058810872408\n"
          ]
        },
        {
          "metadata": {
            "tags": null
          },
          "name": "stderr",
          "output_type": "stream",
          "text": [
            "[I 2025-07-16 11:28:35,425] Trial 3 finished with value: 0.6875 and parameters: {'filters': 32, 'kernel_size': 5, 'activation': 'tanh', 'dropout': 0.2797839072826259, 'lr': 5.803562905169732e-05, 'optimizer': 'adam', 'dense_units': 64, 'init': 'glorot_uniform', 'batch_norm': True}. Best is trial 3 with value: 0.6875.\n"
          ]
        },
        {
          "metadata": {
            "tags": null
          },
          "name": "stdout",
          "output_type": "stream",
          "text": [
            "Trial 4 completed → Val Accuracy: 0.5000\n",
            "Params: {'filters': 64, 'kernel_size': 5, 'activation': 'tanh', 'dropout': 0.36510628915674526, 'lr': 3.488816104396271e-05, 'optimizer': 'adam', 'dense_units': 128, 'init': 'glorot_uniform', 'batch_norm': False}\n",
            "\n",
            "🔗 View run in MLflow: https://21a31ab4490a.ngrok-free.app/#/experiments/405400058810872408/runs/f04ac0e30583471dbe9c48adc1998b59\n",
            "🏃 View run angry-deer-231 at: https://21a31ab4490a.ngrok-free.app/#/experiments/405400058810872408/runs/f04ac0e30583471dbe9c48adc1998b59\n",
            "🧪 View experiment at: https://21a31ab4490a.ngrok-free.app/#/experiments/405400058810872408\n"
          ]
        },
        {
          "metadata": {
            "tags": null
          },
          "name": "stderr",
          "output_type": "stream",
          "text": [
            "[I 2025-07-16 11:33:43,627] Trial 4 finished with value: 0.5 and parameters: {'filters': 64, 'kernel_size': 5, 'activation': 'tanh', 'dropout': 0.36510628915674526, 'lr': 3.488816104396271e-05, 'optimizer': 'adam', 'dense_units': 128, 'init': 'glorot_uniform', 'batch_norm': False}. Best is trial 3 with value: 0.6875.\n"
          ]
        },
        {
          "metadata": {
            "tags": null
          },
          "name": "stdout",
          "output_type": "stream",
          "text": [
            "Trial 5 completed → Val Accuracy: 0.6250\n",
            "Params: {'filters': 128, 'kernel_size': 3, 'activation': 'tanh', 'dropout': 0.35800245448419066, 'lr': 0.00020792938051033587, 'optimizer': 'rmsprop', 'dense_units': 256, 'init': 'he_uniform', 'batch_norm': True}\n",
            "\n",
            "🔗 View run in MLflow: https://21a31ab4490a.ngrok-free.app/#/experiments/405400058810872408/runs/4572460837ff4c24b1d858034d398de4\n",
            "🏃 View run adaptable-slug-616 at: https://21a31ab4490a.ngrok-free.app/#/experiments/405400058810872408/runs/4572460837ff4c24b1d858034d398de4\n",
            "🧪 View experiment at: https://21a31ab4490a.ngrok-free.app/#/experiments/405400058810872408\n"
          ]
        },
        {
          "metadata": {
            "tags": null
          },
          "name": "stderr",
          "output_type": "stream",
          "text": [
            "[I 2025-07-16 11:48:48,972] Trial 5 finished with value: 0.625 and parameters: {'filters': 128, 'kernel_size': 3, 'activation': 'tanh', 'dropout': 0.35800245448419066, 'lr': 0.00020792938051033587, 'optimizer': 'rmsprop', 'dense_units': 256, 'init': 'he_uniform', 'batch_norm': True}. Best is trial 3 with value: 0.6875.\n"
          ]
        },
        {
          "metadata": {
            "tags": null
          },
          "name": "stdout",
          "output_type": "stream",
          "text": [
            "Trial 6 completed → Val Accuracy: 0.5000\n",
            "Params: {'filters': 128, 'kernel_size': 5, 'activation': 'tanh', 'dropout': 0.25020877532442864, 'lr': 0.00426592927513016, 'optimizer': 'rmsprop', 'dense_units': 64, 'init': 'he_uniform', 'batch_norm': True}\n",
            "\n",
            "🔗 View run in MLflow: https://21a31ab4490a.ngrok-free.app/#/experiments/405400058810872408/runs/73cdf650770d4867bf69f9defc90de2c\n",
            "🏃 View run invincible-kit-982 at: https://21a31ab4490a.ngrok-free.app/#/experiments/405400058810872408/runs/73cdf650770d4867bf69f9defc90de2c\n",
            "🧪 View experiment at: https://21a31ab4490a.ngrok-free.app/#/experiments/405400058810872408\n"
          ]
        },
        {
          "metadata": {
            "tags": null
          },
          "name": "stderr",
          "output_type": "stream",
          "text": [
            "[I 2025-07-16 11:55:38,136] Trial 6 finished with value: 0.5 and parameters: {'filters': 128, 'kernel_size': 5, 'activation': 'tanh', 'dropout': 0.25020877532442864, 'lr': 0.00426592927513016, 'optimizer': 'rmsprop', 'dense_units': 64, 'init': 'he_uniform', 'batch_norm': True}. Best is trial 3 with value: 0.6875.\n"
          ]
        },
        {
          "metadata": {
            "tags": null
          },
          "name": "stdout",
          "output_type": "stream",
          "text": [
            "Trial 7 completed → Val Accuracy: 0.5000\n",
            "Params: {'filters': 64, 'kernel_size': 3, 'activation': 'relu', 'dropout': 0.4374377561908737, 'lr': 0.00014721945736422438, 'optimizer': 'rmsprop', 'dense_units': 256, 'init': 'he_uniform', 'batch_norm': False}\n",
            "\n",
            "🔗 View run in MLflow: https://21a31ab4490a.ngrok-free.app/#/experiments/405400058810872408/runs/3c576b40b73a4d91bf2d5ca32027f1c7\n",
            "🏃 View run invincible-duck-373 at: https://21a31ab4490a.ngrok-free.app/#/experiments/405400058810872408/runs/3c576b40b73a4d91bf2d5ca32027f1c7\n",
            "🧪 View experiment at: https://21a31ab4490a.ngrok-free.app/#/experiments/405400058810872408\n"
          ]
        },
        {
          "metadata": {
            "tags": null
          },
          "name": "stderr",
          "output_type": "stream",
          "text": [
            "[I 2025-07-16 12:03:26,480] Trial 7 finished with value: 0.5 and parameters: {'filters': 64, 'kernel_size': 3, 'activation': 'relu', 'dropout': 0.4374377561908737, 'lr': 0.00014721945736422438, 'optimizer': 'rmsprop', 'dense_units': 256, 'init': 'he_uniform', 'batch_norm': False}. Best is trial 3 with value: 0.6875.\n"
          ]
        },
        {
          "metadata": {
            "tags": null
          },
          "name": "stdout",
          "output_type": "stream",
          "text": [
            "Trial 8 completed → Val Accuracy: 0.6875\n",
            "Params: {'filters': 128, 'kernel_size': 5, 'activation': 'relu', 'dropout': 0.44284434678520374, 'lr': 2.8888372072589297e-05, 'optimizer': 'adam', 'dense_units': 256, 'init': 'glorot_uniform', 'batch_norm': False}\n",
            "\n",
            "🔗 View run in MLflow: https://21a31ab4490a.ngrok-free.app/#/experiments/405400058810872408/runs/d8f148cd260f4a7786c14f887f050436\n",
            "🏃 View run luxuriant-auk-119 at: https://21a31ab4490a.ngrok-free.app/#/experiments/405400058810872408/runs/d8f148cd260f4a7786c14f887f050436\n",
            "🧪 View experiment at: https://21a31ab4490a.ngrok-free.app/#/experiments/405400058810872408\n"
          ]
        },
        {
          "metadata": {
            "tags": null
          },
          "name": "stderr",
          "output_type": "stream",
          "text": [
            "[I 2025-07-16 12:17:49,037] Trial 8 finished with value: 0.6875 and parameters: {'filters': 128, 'kernel_size': 5, 'activation': 'relu', 'dropout': 0.44284434678520374, 'lr': 2.8888372072589297e-05, 'optimizer': 'adam', 'dense_units': 256, 'init': 'glorot_uniform', 'batch_norm': False}. Best is trial 3 with value: 0.6875.\n"
          ]
        },
        {
          "name": "stdout",
          "output_type": "stream",
          "text": [
            "Trial 9 completed → Val Accuracy: 0.5000\n",
            "Params: {'filters': 32, 'kernel_size': 5, 'activation': 'relu', 'dropout': 0.493319812741713, 'lr': 0.004570850529632961, 'optimizer': 'adam', 'dense_units': 128, 'init': 'he_uniform', 'batch_norm': True}\n",
            "\n",
            "🔗 View run in MLflow: https://21a31ab4490a.ngrok-free.app/#/experiments/405400058810872408/runs/07344f6acdb14b25824ccf04a145f739\n",
            "🏃 View run mysterious-midge-626 at: https://21a31ab4490a.ngrok-free.app/#/experiments/405400058810872408/runs/07344f6acdb14b25824ccf04a145f739\n",
            "🧪 View experiment at: https://21a31ab4490a.ngrok-free.app/#/experiments/405400058810872408\n"
          ]
        },
        {
          "name": "stderr",
          "output_type": "stream",
          "text": [
            "[I 2025-07-16 12:24:47,366] Trial 9 finished with value: 0.5 and parameters: {'filters': 32, 'kernel_size': 5, 'activation': 'relu', 'dropout': 0.493319812741713, 'lr': 0.004570850529632961, 'optimizer': 'adam', 'dense_units': 128, 'init': 'he_uniform', 'batch_norm': True}. Best is trial 3 with value: 0.6875.\n"
          ]
        },
        {
          "name": "stdout",
          "output_type": "stream",
          "text": [
            "Trial 10 completed → Val Accuracy: 0.9375\n",
            "Params: {'filters': 64, 'kernel_size': 3, 'activation': 'relu', 'dropout': 0.43658815854434946, 'lr': 0.0004455910135661276, 'optimizer': 'rmsprop', 'dense_units': 128, 'init': 'glorot_uniform', 'batch_norm': True}\n",
            "\n",
            "🔗 View run in MLflow: https://21a31ab4490a.ngrok-free.app/#/experiments/405400058810872408/runs/8d6d8e44536c4d179bbccd57f03359be\n",
            "🏃 View run smiling-tern-215 at: https://21a31ab4490a.ngrok-free.app/#/experiments/405400058810872408/runs/8d6d8e44536c4d179bbccd57f03359be\n",
            "🧪 View experiment at: https://21a31ab4490a.ngrok-free.app/#/experiments/405400058810872408\n"
          ]
        },
        {
          "name": "stderr",
          "output_type": "stream",
          "text": [
            "[I 2025-07-16 12:43:21,742] Trial 10 finished with value: 0.9375 and parameters: {'filters': 64, 'kernel_size': 3, 'activation': 'relu', 'dropout': 0.43658815854434946, 'lr': 0.0004455910135661276, 'optimizer': 'rmsprop', 'dense_units': 128, 'init': 'glorot_uniform', 'batch_norm': True}. Best is trial 10 with value: 0.9375.\n"
          ]
        },
        {
          "name": "stdout",
          "output_type": "stream",
          "text": [
            "Trial 11 completed → Val Accuracy: 0.5000\n",
            "Params: {'filters': 64, 'kernel_size': 3, 'activation': 'relu', 'dropout': 0.49782247686267966, 'lr': 0.00023392421108589165, 'optimizer': 'sgd', 'dense_units': 256, 'init': 'glorot_uniform', 'batch_norm': False}\n",
            "\n",
            "🔗 View run in MLflow: https://21a31ab4490a.ngrok-free.app/#/experiments/405400058810872408/runs/889b64ca37374100be912465223484f6\n",
            "🏃 View run powerful-ant-595 at: https://21a31ab4490a.ngrok-free.app/#/experiments/405400058810872408/runs/889b64ca37374100be912465223484f6\n",
            "🧪 View experiment at: https://21a31ab4490a.ngrok-free.app/#/experiments/405400058810872408\n"
          ]
        },
        {
          "name": "stderr",
          "output_type": "stream",
          "text": [
            "[I 2025-07-16 12:51:07,114] Trial 11 finished with value: 0.5 and parameters: {'filters': 64, 'kernel_size': 3, 'activation': 'relu', 'dropout': 0.49782247686267966, 'lr': 0.00023392421108589165, 'optimizer': 'sgd', 'dense_units': 256, 'init': 'glorot_uniform', 'batch_norm': False}. Best is trial 10 with value: 0.9375.\n"
          ]
        },
        {
          "name": "stdout",
          "output_type": "stream",
          "text": [
            "Trial 12 completed → Val Accuracy: 0.7500\n",
            "Params: {'filters': 64, 'kernel_size': 3, 'activation': 'relu', 'dropout': 0.31044372324111214, 'lr': 0.0010195264379172261, 'optimizer': 'sgd', 'dense_units': 128, 'init': 'glorot_uniform', 'batch_norm': True}\n",
            "\n",
            "🔗 View run in MLflow: https://21a31ab4490a.ngrok-free.app/#/experiments/405400058810872408/runs/302c659794b8496dbe3ac3cdc284e0a9\n",
            "🏃 View run popular-wolf-49 at: https://21a31ab4490a.ngrok-free.app/#/experiments/405400058810872408/runs/302c659794b8496dbe3ac3cdc284e0a9\n",
            "🧪 View experiment at: https://21a31ab4490a.ngrok-free.app/#/experiments/405400058810872408\n"
          ]
        },
        {
          "name": "stderr",
          "output_type": "stream",
          "text": [
            "[I 2025-07-16 13:01:51,238] Trial 12 finished with value: 0.75 and parameters: {'filters': 64, 'kernel_size': 3, 'activation': 'relu', 'dropout': 0.31044372324111214, 'lr': 0.0010195264379172261, 'optimizer': 'sgd', 'dense_units': 128, 'init': 'glorot_uniform', 'batch_norm': True}. Best is trial 10 with value: 0.9375.\n"
          ]
        },
        {
          "name": "stdout",
          "output_type": "stream",
          "text": [
            "Trial 13 completed → Val Accuracy: 0.8125\n",
            "Params: {'filters': 64, 'kernel_size': 3, 'activation': 'relu', 'dropout': 0.3103149249732144, 'lr': 0.00116805419859398, 'optimizer': 'sgd', 'dense_units': 128, 'init': 'glorot_uniform', 'batch_norm': True}\n",
            "\n",
            "🔗 View run in MLflow: https://21a31ab4490a.ngrok-free.app/#/experiments/405400058810872408/runs/ea653988d162492db0b483d181960e77\n",
            "🏃 View run bustling-stork-657 at: https://21a31ab4490a.ngrok-free.app/#/experiments/405400058810872408/runs/ea653988d162492db0b483d181960e77\n",
            "🧪 View experiment at: https://21a31ab4490a.ngrok-free.app/#/experiments/405400058810872408\n"
          ]
        },
        {
          "name": "stderr",
          "output_type": "stream",
          "text": [
            "[I 2025-07-16 13:20:00,203] Trial 13 finished with value: 0.8125 and parameters: {'filters': 64, 'kernel_size': 3, 'activation': 'relu', 'dropout': 0.3103149249732144, 'lr': 0.00116805419859398, 'optimizer': 'sgd', 'dense_units': 128, 'init': 'glorot_uniform', 'batch_norm': True}. Best is trial 10 with value: 0.9375.\n"
          ]
        },
        {
          "name": "stdout",
          "output_type": "stream",
          "text": [
            "Trial 14 completed → Val Accuracy: 0.8750\n",
            "Params: {'filters': 64, 'kernel_size': 3, 'activation': 'relu', 'dropout': 0.3870266605073258, 'lr': 0.0007672490619360577, 'optimizer': 'sgd', 'dense_units': 128, 'init': 'glorot_uniform', 'batch_norm': True}\n",
            "\n",
            "🔗 View run in MLflow: https://21a31ab4490a.ngrok-free.app/#/experiments/405400058810872408/runs/4a5c66713640441b8e18fdda898f22f2\n",
            "🏃 View run wistful-ape-437 at: https://21a31ab4490a.ngrok-free.app/#/experiments/405400058810872408/runs/4a5c66713640441b8e18fdda898f22f2\n",
            "🧪 View experiment at: https://21a31ab4490a.ngrok-free.app/#/experiments/405400058810872408\n"
          ]
        },
        {
          "name": "stderr",
          "output_type": "stream",
          "text": [
            "[I 2025-07-16 13:34:36,703] Trial 14 finished with value: 0.875 and parameters: {'filters': 64, 'kernel_size': 3, 'activation': 'relu', 'dropout': 0.3870266605073258, 'lr': 0.0007672490619360577, 'optimizer': 'sgd', 'dense_units': 128, 'init': 'glorot_uniform', 'batch_norm': True}. Best is trial 10 with value: 0.9375.\n"
          ]
        },
        {
          "name": "stdout",
          "output_type": "stream",
          "text": [
            "Trial 15 completed → Val Accuracy: 0.8750\n",
            "Params: {'filters': 64, 'kernel_size': 3, 'activation': 'relu', 'dropout': 0.39944664396168517, 'lr': 0.00071119652653388, 'optimizer': 'sgd', 'dense_units': 128, 'init': 'glorot_uniform', 'batch_norm': True}\n",
            "\n",
            "🔗 View run in MLflow: https://21a31ab4490a.ngrok-free.app/#/experiments/405400058810872408/runs/548101ac2ed341029a17b6438e2772a3\n",
            "🏃 View run debonair-bass-106 at: https://21a31ab4490a.ngrok-free.app/#/experiments/405400058810872408/runs/548101ac2ed341029a17b6438e2772a3\n",
            "🧪 View experiment at: https://21a31ab4490a.ngrok-free.app/#/experiments/405400058810872408\n"
          ]
        },
        {
          "name": "stderr",
          "output_type": "stream",
          "text": [
            "[I 2025-07-16 13:47:47,028] Trial 15 finished with value: 0.875 and parameters: {'filters': 64, 'kernel_size': 3, 'activation': 'relu', 'dropout': 0.39944664396168517, 'lr': 0.00071119652653388, 'optimizer': 'sgd', 'dense_units': 128, 'init': 'glorot_uniform', 'batch_norm': True}. Best is trial 10 with value: 0.9375.\n"
          ]
        },
        {
          "name": "stdout",
          "output_type": "stream",
          "text": [
            "Trial 16 completed → Val Accuracy: 0.6250\n",
            "Params: {'filters': 64, 'kernel_size': 3, 'activation': 'relu', 'dropout': 0.39314998989777206, 'lr': 0.0005271144413774827, 'optimizer': 'rmsprop', 'dense_units': 128, 'init': 'glorot_uniform', 'batch_norm': True}\n",
            "\n",
            "🔗 View run in MLflow: https://21a31ab4490a.ngrok-free.app/#/experiments/405400058810872408/runs/8ff7dfd49d77447690fb2003decf9c6a\n",
            "🏃 View run grandiose-foal-578 at: https://21a31ab4490a.ngrok-free.app/#/experiments/405400058810872408/runs/8ff7dfd49d77447690fb2003decf9c6a\n",
            "🧪 View experiment at: https://21a31ab4490a.ngrok-free.app/#/experiments/405400058810872408\n"
          ]
        },
        {
          "name": "stderr",
          "output_type": "stream",
          "text": [
            "[I 2025-07-16 13:58:32,128] Trial 16 finished with value: 0.625 and parameters: {'filters': 64, 'kernel_size': 3, 'activation': 'relu', 'dropout': 0.39314998989777206, 'lr': 0.0005271144413774827, 'optimizer': 'rmsprop', 'dense_units': 128, 'init': 'glorot_uniform', 'batch_norm': True}. Best is trial 10 with value: 0.9375.\n"
          ]
        },
        {
          "name": "stdout",
          "output_type": "stream",
          "text": [
            "Trial 17 completed → Val Accuracy: 0.8750\n",
            "Params: {'filters': 64, 'kernel_size': 3, 'activation': 'relu', 'dropout': 0.40336601364102254, 'lr': 0.0015477665615626635, 'optimizer': 'sgd', 'dense_units': 128, 'init': 'glorot_uniform', 'batch_norm': True}\n",
            "\n",
            "🔗 View run in MLflow: https://21a31ab4490a.ngrok-free.app/#/experiments/405400058810872408/runs/1dca7567fd284aa4823d96760b1db9b5\n",
            "🏃 View run sassy-lynx-1000 at: https://21a31ab4490a.ngrok-free.app/#/experiments/405400058810872408/runs/1dca7567fd284aa4823d96760b1db9b5\n",
            "🧪 View experiment at: https://21a31ab4490a.ngrok-free.app/#/experiments/405400058810872408\n"
          ]
        },
        {
          "name": "stderr",
          "output_type": "stream",
          "text": [
            "[I 2025-07-16 14:13:40,497] Trial 17 finished with value: 0.875 and parameters: {'filters': 64, 'kernel_size': 3, 'activation': 'relu', 'dropout': 0.40336601364102254, 'lr': 0.0015477665615626635, 'optimizer': 'sgd', 'dense_units': 128, 'init': 'glorot_uniform', 'batch_norm': True}. Best is trial 10 with value: 0.9375.\n"
          ]
        },
        {
          "name": "stdout",
          "output_type": "stream",
          "text": [
            "Trial 18 completed → Val Accuracy: 0.6875\n",
            "Params: {'filters': 32, 'kernel_size': 3, 'activation': 'relu', 'dropout': 0.31942501671812595, 'lr': 0.009568498164849214, 'optimizer': 'sgd', 'dense_units': 64, 'init': 'glorot_uniform', 'batch_norm': True}\n",
            "\n",
            "🔗 View run in MLflow: https://21a31ab4490a.ngrok-free.app/#/experiments/405400058810872408/runs/57021ea2a5e34ccda9a404ca4dc7c5bb\n",
            "🏃 View run bright-worm-441 at: https://21a31ab4490a.ngrok-free.app/#/experiments/405400058810872408/runs/57021ea2a5e34ccda9a404ca4dc7c5bb\n",
            "🧪 View experiment at: https://21a31ab4490a.ngrok-free.app/#/experiments/405400058810872408\n"
          ]
        },
        {
          "name": "stderr",
          "output_type": "stream",
          "text": [
            "[I 2025-07-16 14:19:21,226] Trial 18 finished with value: 0.6875 and parameters: {'filters': 32, 'kernel_size': 3, 'activation': 'relu', 'dropout': 0.31942501671812595, 'lr': 0.009568498164849214, 'optimizer': 'sgd', 'dense_units': 64, 'init': 'glorot_uniform', 'batch_norm': True}. Best is trial 10 with value: 0.9375.\n"
          ]
        },
        {
          "name": "stdout",
          "output_type": "stream",
          "text": [
            "Trial 19 completed → Val Accuracy: 0.8125\n",
            "Params: {'filters': 64, 'kernel_size': 3, 'activation': 'relu', 'dropout': 0.21309416422024027, 'lr': 9.365789691361113e-05, 'optimizer': 'rmsprop', 'dense_units': 128, 'init': 'glorot_uniform', 'batch_norm': True}\n",
            "\n",
            "🔗 View run in MLflow: https://21a31ab4490a.ngrok-free.app/#/experiments/405400058810872408/runs/232043653fe34913b1c4d36f305291aa\n",
            "🏃 View run debonair-conch-33 at: https://21a31ab4490a.ngrok-free.app/#/experiments/405400058810872408/runs/232043653fe34913b1c4d36f305291aa\n",
            "🧪 View experiment at: https://21a31ab4490a.ngrok-free.app/#/experiments/405400058810872408\n"
          ]
        },
        {
          "name": "stderr",
          "output_type": "stream",
          "text": [
            "[I 2025-07-16 14:32:32,442] Trial 19 finished with value: 0.8125 and parameters: {'filters': 64, 'kernel_size': 3, 'activation': 'relu', 'dropout': 0.21309416422024027, 'lr': 9.365789691361113e-05, 'optimizer': 'rmsprop', 'dense_units': 128, 'init': 'glorot_uniform', 'batch_norm': True}. Best is trial 10 with value: 0.9375.\n"
          ]
        },
        {
          "name": "stdout",
          "output_type": "stream",
          "text": [
            "Trial 20 completed → Val Accuracy: 0.5000\n",
            "Params: {'filters': 64, 'kernel_size': 3, 'activation': 'tanh', 'dropout': 0.4232362449153307, 'lr': 1.404068025811426e-05, 'optimizer': 'sgd', 'dense_units': 128, 'init': 'glorot_uniform', 'batch_norm': False}\n",
            "\n",
            "🔗 View run in MLflow: https://21a31ab4490a.ngrok-free.app/#/experiments/405400058810872408/runs/8e80525885174f52bdbc074e44b6bb14\n",
            "🏃 View run zealous-shoat-6 at: https://21a31ab4490a.ngrok-free.app/#/experiments/405400058810872408/runs/8e80525885174f52bdbc074e44b6bb14\n",
            "🧪 View experiment at: https://21a31ab4490a.ngrok-free.app/#/experiments/405400058810872408\n"
          ]
        },
        {
          "name": "stderr",
          "output_type": "stream",
          "text": [
            "[I 2025-07-16 14:39:17,588] Trial 20 finished with value: 0.5 and parameters: {'filters': 64, 'kernel_size': 3, 'activation': 'tanh', 'dropout': 0.4232362449153307, 'lr': 1.404068025811426e-05, 'optimizer': 'sgd', 'dense_units': 128, 'init': 'glorot_uniform', 'batch_norm': False}. Best is trial 10 with value: 0.9375.\n"
          ]
        },
        {
          "name": "stdout",
          "output_type": "stream",
          "text": [
            "Trial 21 completed → Val Accuracy: 0.6875\n",
            "Params: {'filters': 32, 'kernel_size': 3, 'activation': 'relu', 'dropout': 0.46796976705528737, 'lr': 0.0003736359364250642, 'optimizer': 'rmsprop', 'dense_units': 64, 'init': 'glorot_uniform', 'batch_norm': True}\n",
            "\n",
            "🔗 View run in MLflow: https://21a31ab4490a.ngrok-free.app/#/experiments/405400058810872408/runs/5964511defc14b5791aeb0c482aa1252\n",
            "🏃 View run capable-grouse-231 at: https://21a31ab4490a.ngrok-free.app/#/experiments/405400058810872408/runs/5964511defc14b5791aeb0c482aa1252\n",
            "🧪 View experiment at: https://21a31ab4490a.ngrok-free.app/#/experiments/405400058810872408\n"
          ]
        },
        {
          "name": "stderr",
          "output_type": "stream",
          "text": [
            "[I 2025-07-16 14:50:03,567] Trial 21 finished with value: 0.6875 and parameters: {'filters': 32, 'kernel_size': 3, 'activation': 'relu', 'dropout': 0.46796976705528737, 'lr': 0.0003736359364250642, 'optimizer': 'rmsprop', 'dense_units': 64, 'init': 'glorot_uniform', 'batch_norm': True}. Best is trial 10 with value: 0.9375.\n"
          ]
        },
        {
          "name": "stdout",
          "output_type": "stream",
          "text": [
            "Trial 22 completed → Val Accuracy: 0.5000\n",
            "Params: {'filters': 64, 'kernel_size': 3, 'activation': 'relu', 'dropout': 0.36400173123516444, 'lr': 0.0025897769204187146, 'optimizer': 'rmsprop', 'dense_units': 128, 'init': 'glorot_uniform', 'batch_norm': True}\n",
            "\n",
            "🔗 View run in MLflow: https://21a31ab4490a.ngrok-free.app/#/experiments/405400058810872408/runs/33921192933b4e2986118fb260bd403b\n",
            "🏃 View run calm-goat-452 at: https://21a31ab4490a.ngrok-free.app/#/experiments/405400058810872408/runs/33921192933b4e2986118fb260bd403b\n",
            "🧪 View experiment at: https://21a31ab4490a.ngrok-free.app/#/experiments/405400058810872408\n"
          ]
        },
        {
          "name": "stderr",
          "output_type": "stream",
          "text": [
            "[I 2025-07-16 14:56:24,321] Trial 22 finished with value: 0.5 and parameters: {'filters': 64, 'kernel_size': 3, 'activation': 'relu', 'dropout': 0.36400173123516444, 'lr': 0.0025897769204187146, 'optimizer': 'rmsprop', 'dense_units': 128, 'init': 'glorot_uniform', 'batch_norm': True}. Best is trial 10 with value: 0.9375.\n"
          ]
        },
        {
          "name": "stdout",
          "output_type": "stream",
          "text": [
            "Trial 23 completed → Val Accuracy: 0.5625\n",
            "Params: {'filters': 64, 'kernel_size': 3, 'activation': 'relu', 'dropout': 0.3995146068372775, 'lr': 0.0006215224022779755, 'optimizer': 'sgd', 'dense_units': 128, 'init': 'glorot_uniform', 'batch_norm': True}\n",
            "\n",
            "🔗 View run in MLflow: https://21a31ab4490a.ngrok-free.app/#/experiments/405400058810872408/runs/642d4a85b95947d3b955561d496c5dc3\n",
            "🏃 View run skittish-hog-345 at: https://21a31ab4490a.ngrok-free.app/#/experiments/405400058810872408/runs/642d4a85b95947d3b955561d496c5dc3\n",
            "🧪 View experiment at: https://21a31ab4490a.ngrok-free.app/#/experiments/405400058810872408\n"
          ]
        },
        {
          "name": "stderr",
          "output_type": "stream",
          "text": [
            "[I 2025-07-16 15:03:42,649] Trial 23 finished with value: 0.5625 and parameters: {'filters': 64, 'kernel_size': 3, 'activation': 'relu', 'dropout': 0.3995146068372775, 'lr': 0.0006215224022779755, 'optimizer': 'sgd', 'dense_units': 128, 'init': 'glorot_uniform', 'batch_norm': True}. Best is trial 10 with value: 0.9375.\n"
          ]
        },
        {
          "name": "stdout",
          "output_type": "stream",
          "text": [
            "Trial 24 completed → Val Accuracy: 0.8125\n",
            "Params: {'filters': 64, 'kernel_size': 3, 'activation': 'relu', 'dropout': 0.3896998040908869, 'lr': 0.0006399713737134153, 'optimizer': 'sgd', 'dense_units': 128, 'init': 'glorot_uniform', 'batch_norm': True}\n",
            "\n",
            "🔗 View run in MLflow: https://21a31ab4490a.ngrok-free.app/#/experiments/405400058810872408/runs/75086b3a2bf247979206dda2729e0753\n",
            "🏃 View run shivering-shad-344 at: https://21a31ab4490a.ngrok-free.app/#/experiments/405400058810872408/runs/75086b3a2bf247979206dda2729e0753\n",
            "🧪 View experiment at: https://21a31ab4490a.ngrok-free.app/#/experiments/405400058810872408\n"
          ]
        },
        {
          "name": "stderr",
          "output_type": "stream",
          "text": [
            "[I 2025-07-16 15:15:54,556] Trial 24 finished with value: 0.8125 and parameters: {'filters': 64, 'kernel_size': 3, 'activation': 'relu', 'dropout': 0.3896998040908869, 'lr': 0.0006399713737134153, 'optimizer': 'sgd', 'dense_units': 128, 'init': 'glorot_uniform', 'batch_norm': True}. Best is trial 10 with value: 0.9375.\n"
          ]
        },
        {
          "name": "stdout",
          "output_type": "stream",
          "text": [
            "Trial 25 completed → Val Accuracy: 0.6250\n",
            "Params: {'filters': 64, 'kernel_size': 3, 'activation': 'relu', 'dropout': 0.3323617831174143, 'lr': 0.00036822653484459513, 'optimizer': 'sgd', 'dense_units': 128, 'init': 'glorot_uniform', 'batch_norm': True}\n",
            "\n",
            "🔗 View run in MLflow: https://21a31ab4490a.ngrok-free.app/#/experiments/405400058810872408/runs/841a1e041f494038b999e2954ffc48c6\n",
            "🏃 View run stylish-eel-325 at: https://21a31ab4490a.ngrok-free.app/#/experiments/405400058810872408/runs/841a1e041f494038b999e2954ffc48c6\n",
            "🧪 View experiment at: https://21a31ab4490a.ngrok-free.app/#/experiments/405400058810872408\n"
          ]
        },
        {
          "name": "stderr",
          "output_type": "stream",
          "text": [
            "[I 2025-07-16 15:28:29,423] Trial 25 finished with value: 0.625 and parameters: {'filters': 64, 'kernel_size': 3, 'activation': 'relu', 'dropout': 0.3323617831174143, 'lr': 0.00036822653484459513, 'optimizer': 'sgd', 'dense_units': 128, 'init': 'glorot_uniform', 'batch_norm': True}. Best is trial 10 with value: 0.9375.\n"
          ]
        },
        {
          "name": "stdout",
          "output_type": "stream",
          "text": [
            "Trial 26 completed → Val Accuracy: 0.6875\n",
            "Params: {'filters': 64, 'kernel_size': 3, 'activation': 'relu', 'dropout': 0.4176645461944641, 'lr': 0.0017067756146278807, 'optimizer': 'sgd', 'dense_units': 128, 'init': 'glorot_uniform', 'batch_norm': True}\n",
            "\n",
            "🔗 View run in MLflow: https://21a31ab4490a.ngrok-free.app/#/experiments/405400058810872408/runs/f9f95773c7af4620bc18e2fca016e418\n",
            "🏃 View run adorable-dove-368 at: https://21a31ab4490a.ngrok-free.app/#/experiments/405400058810872408/runs/f9f95773c7af4620bc18e2fca016e418\n",
            "🧪 View experiment at: https://21a31ab4490a.ngrok-free.app/#/experiments/405400058810872408\n"
          ]
        },
        {
          "name": "stderr",
          "output_type": "stream",
          "text": [
            "[I 2025-07-16 15:39:28,734] Trial 26 finished with value: 0.6875 and parameters: {'filters': 64, 'kernel_size': 3, 'activation': 'relu', 'dropout': 0.4176645461944641, 'lr': 0.0017067756146278807, 'optimizer': 'sgd', 'dense_units': 128, 'init': 'glorot_uniform', 'batch_norm': True}. Best is trial 10 with value: 0.9375.\n"
          ]
        },
        {
          "name": "stdout",
          "output_type": "stream",
          "text": [
            "Trial 27 completed → Val Accuracy: 0.7500\n",
            "Params: {'filters': 64, 'kernel_size': 3, 'activation': 'relu', 'dropout': 0.38076527208073774, 'lr': 0.0008385924123418563, 'optimizer': 'sgd', 'dense_units': 128, 'init': 'glorot_uniform', 'batch_norm': True}\n",
            "\n",
            "🔗 View run in MLflow: https://21a31ab4490a.ngrok-free.app/#/experiments/405400058810872408/runs/7e01f4fc46f64e6ba794ca8dc56316be\n",
            "🏃 View run caring-perch-9 at: https://21a31ab4490a.ngrok-free.app/#/experiments/405400058810872408/runs/7e01f4fc46f64e6ba794ca8dc56316be\n",
            "🧪 View experiment at: https://21a31ab4490a.ngrok-free.app/#/experiments/405400058810872408\n"
          ]
        },
        {
          "name": "stderr",
          "output_type": "stream",
          "text": [
            "[I 2025-07-16 15:52:33,873] Trial 27 finished with value: 0.75 and parameters: {'filters': 64, 'kernel_size': 3, 'activation': 'relu', 'dropout': 0.38076527208073774, 'lr': 0.0008385924123418563, 'optimizer': 'sgd', 'dense_units': 128, 'init': 'glorot_uniform', 'batch_norm': True}. Best is trial 10 with value: 0.9375.\n"
          ]
        },
        {
          "name": "stdout",
          "output_type": "stream",
          "text": [
            "Trial 28 completed → Val Accuracy: 0.6250\n",
            "Params: {'filters': 64, 'kernel_size': 5, 'activation': 'tanh', 'dropout': 0.4755599943105645, 'lr': 0.000129808530186191, 'optimizer': 'sgd', 'dense_units': 128, 'init': 'he_uniform', 'batch_norm': False}\n",
            "\n",
            "🔗 View run in MLflow: https://21a31ab4490a.ngrok-free.app/#/experiments/405400058810872408/runs/78f41f241ce648d58f32d46a55ce0d9c\n",
            "🏃 View run illustrious-lamb-462 at: https://21a31ab4490a.ngrok-free.app/#/experiments/405400058810872408/runs/78f41f241ce648d58f32d46a55ce0d9c\n",
            "🧪 View experiment at: https://21a31ab4490a.ngrok-free.app/#/experiments/405400058810872408\n"
          ]
        },
        {
          "name": "stderr",
          "output_type": "stream",
          "text": [
            "[I 2025-07-16 16:00:40,292] Trial 28 finished with value: 0.625 and parameters: {'filters': 64, 'kernel_size': 5, 'activation': 'tanh', 'dropout': 0.4755599943105645, 'lr': 0.000129808530186191, 'optimizer': 'sgd', 'dense_units': 128, 'init': 'he_uniform', 'batch_norm': False}. Best is trial 10 with value: 0.9375.\n"
          ]
        }
      ],
      "source": [
        "# ✅ STEP 6: Model builder function (with hyperparameters to tune)\n",
        "def create_model(trial):\n",
        "\n",
        "\n",
        "    filters = trial.suggest_categorical(\"filters\", [32, 64, 128])\n",
        "    kernel_size = trial.suggest_categorical(\"kernel_size\", [3, 5])\n",
        "    activation = trial.suggest_categorical(\"activation\", [\"relu\", \"tanh\"])\n",
        "    dropout_rate = trial.suggest_float(\"dropout\", 0.2, 0.5)\n",
        "    lr = trial.suggest_float(\"lr\", 1e-5, 1e-2, log=True)\n",
        "    optimizer_name = trial.suggest_categorical(\"optimizer\", [\"adam\", \"sgd\", \"rmsprop\"])\n",
        "    dense_units = trial.suggest_categorical(\"dense_units\", [64, 128, 256])\n",
        "    init = trial.suggest_categorical(\"init\", [\"he_uniform\", \"glorot_uniform\"])\n",
        "    use_batch_norm = trial.suggest_categorical(\"batch_norm\", [True, False])\n",
        "\n",
        "    model = Sequential()\n",
        "    model.add(Input(shape=(150, 150, 3)))\n",
        "    model.add(Conv2D(filters, kernel_size, activation=activation, kernel_initializer=init))\n",
        "    if use_batch_norm:\n",
        "        model.add(BatchNormalization())\n",
        "    model.add(MaxPooling2D(pool_size=(2, 2)))\n",
        "    model.add(Flatten())\n",
        "    model.add(Dense(dense_units, activation=activation))\n",
        "    model.add(Dropout(dropout_rate))\n",
        "    model.add(Dense(1, activation=\"sigmoid\"))\n",
        "\n",
        "    if optimizer_name == \"adam\":\n",
        "        optimizer = Adam(learning_rate=lr)\n",
        "    elif optimizer_name == \"sgd\":\n",
        "        optimizer = SGD(learning_rate=lr)\n",
        "    else:\n",
        "        optimizer = RMSprop(learning_rate=lr)\n",
        "\n",
        "    model.compile(optimizer=optimizer, loss=\"binary_crossentropy\", metrics=[\"accuracy\"])\n",
        "    return model\n",
        "\n",
        "# ✅ STEP 7: Define Optuna objective function\n",
        "def objective(trial):\n",
        "\n",
        "    model = create_model(trial)\n",
        "\n",
        "    early_stop = EarlyStopping(monitor='val_accuracy', patience=3, restore_best_weights=True)\n",
        "\n",
        "    with mlflow.start_run():\n",
        "        history = model.fit(train_data,  # ← Set your training data\n",
        "                            epochs=10,\n",
        "                            validation_data=val_data,  # ← Set your validation data\n",
        "                            callbacks=[early_stop],\n",
        "                            verbose=0)\n",
        "\n",
        "        val_acc = max(history.history['val_accuracy'])\n",
        "\n",
        "        # Log all parameters and metrics\n",
        "        for key, value in trial.params.items():\n",
        "            mlflow.log_param(key, value)\n",
        "        mlflow.log_metric(\"val_accuracy\", val_acc)\n",
        "\n",
        "        # Progress tracking\n",
        "        print(f\"Trial {trial.number} completed → Val Accuracy: {val_acc:.4f}\")\n",
        "        print(f\"Params: {trial.params}\\n\")\n",
        "        print(f\"🔗 View run in MLflow: {mlflow.get_tracking_uri()}/#/experiments/{mlflow.active_run().info.experiment_id}/runs/{mlflow.active_run().info.run_id}\")\n",
        "\n",
        "        return val_acc\n",
        "\n",
        "# ✅ STEP 8: Start tuning\n",
        "study.optimize(objective, n_trials=30)\n",
        "\n",
        "# ✅ STEP 9: Show best result\n",
        "print(\"✅ Best Accuracy:\", study.best_value)\n",
        "print(\"✅ Best Parameters:\", study.best_params)\n"
      ]
    },
    {
      "cell_type": "code",
      "execution_count": null,
      "metadata": {
        "colab": {
          "base_uri": "https://localhost:8080/"
        },
        "id": "dkLC2t_VR0Fk",
        "outputId": "3f16ba4d-ef31-453e-8aca-bd3aaf1f736d"
      },
      "outputs": [
        {
          "name": "stdout",
          "output_type": "stream",
          "text": [
            "Mounted at /content/drive\n",
            "Drive already mounted at /content/drive; to attempt to forcibly remount, call drive.mount(\"/content/drive\", force_remount=True).\n"
          ]
        }
      ],
      "source": [
        "from google.colab import drive\n",
        "drive.mount('/content/drive')\n"
      ]
    },
    {
      "cell_type": "code",
      "execution_count": null,
      "metadata": {
        "colab": {
          "base_uri": "https://localhost:8080/"
        },
        "id": "Hfz-sr58R098",
        "outputId": "fdbee2a9-ec8c-4f6f-cb90-8110c7339e5b"
      },
      "outputs": [
        {
          "name": "stdout",
          "output_type": "stream",
          "text": [
            "cp: cannot stat 'mlruns': No such file or directory\n",
            "cp: cannot stat 'cnn_tuning_v2.db': No such file or directory\n"
          ]
        }
      ],
      "source": [
        "!mkdir -p /content/drive/MyDrive/pneumonia_safe\n",
        "!cp -r mlruns /content/drive/MyDrive/pneumonia_safe/\n",
        "!cp cnn_tuning_v2.db /content/drive/MyDrive/pneumonia_safe/\n"
      ]
    },
    {
      "cell_type": "code",
      "execution_count": null,
      "metadata": {
        "id": "Xz7Uc0CsSAHK"
      },
      "outputs": [],
      "source": []
    },
    {
      "cell_type": "code",
      "execution_count": 23,
      "metadata": {
        "colab": {
          "base_uri": "https://localhost:8080/"
        },
        "id": "55f698bd",
        "outputId": "934b608e-613f-4813-a84b-77aed0ceee5e"
      },
      "outputs": [
        {
          "output_type": "stream",
          "name": "stdout",
          "text": [
            "Epoch 1/10\n",
            "\u001b[1m163/163\u001b[0m \u001b[32m━━━━━━━━━━━━━━━━━━━━\u001b[0m\u001b[37m\u001b[0m \u001b[1m88s\u001b[0m 506ms/step - accuracy: 0.6921 - loss: 7.8968 - val_accuracy: 0.5000 - val_loss: 38.8157\n",
            "Epoch 2/10\n",
            "\u001b[1m163/163\u001b[0m \u001b[32m━━━━━━━━━━━━━━━━━━━━\u001b[0m\u001b[37m\u001b[0m \u001b[1m77s\u001b[0m 472ms/step - accuracy: 0.7515 - loss: 0.4820 - val_accuracy: 0.5000 - val_loss: 43.3658\n",
            "Epoch 3/10\n",
            "\u001b[1m163/163\u001b[0m \u001b[32m━━━━━━━━━━━━━━━━━━━━\u001b[0m\u001b[37m\u001b[0m \u001b[1m79s\u001b[0m 484ms/step - accuracy: 0.7474 - loss: 0.3945 - val_accuracy: 0.5000 - val_loss: 36.5200\n",
            "Epoch 4/10\n",
            "\u001b[1m163/163\u001b[0m \u001b[32m━━━━━━━━━━━━━━━━━━━━\u001b[0m\u001b[37m\u001b[0m \u001b[1m76s\u001b[0m 464ms/step - accuracy: 0.7615 - loss: 0.4245 - val_accuracy: 0.5000 - val_loss: 5.8358\n",
            "Epoch 5/10\n",
            "\u001b[1m163/163\u001b[0m \u001b[32m━━━━━━━━━━━━━━━━━━━━\u001b[0m\u001b[37m\u001b[0m \u001b[1m77s\u001b[0m 473ms/step - accuracy: 0.8533 - loss: 0.3447 - val_accuracy: 0.5625 - val_loss: 0.6802\n",
            "Epoch 6/10\n",
            "\u001b[1m163/163\u001b[0m \u001b[32m━━━━━━━━━━━━━━━━━━━━\u001b[0m\u001b[37m\u001b[0m \u001b[1m77s\u001b[0m 474ms/step - accuracy: 0.8514 - loss: 0.3576 - val_accuracy: 0.6250 - val_loss: 3.5161\n",
            "Epoch 7/10\n",
            "\u001b[1m163/163\u001b[0m \u001b[32m━━━━━━━━━━━━━━━━━━━━\u001b[0m\u001b[37m\u001b[0m \u001b[1m79s\u001b[0m 485ms/step - accuracy: 0.8665 - loss: 0.3278 - val_accuracy: 0.5000 - val_loss: 0.6071\n",
            "Epoch 8/10\n",
            "\u001b[1m163/163\u001b[0m \u001b[32m━━━━━━━━━━━━━━━━━━━━\u001b[0m\u001b[37m\u001b[0m \u001b[1m76s\u001b[0m 466ms/step - accuracy: 0.8694 - loss: 0.3125 - val_accuracy: 0.6250 - val_loss: 1.7479\n",
            "Epoch 9/10\n",
            "\u001b[1m163/163\u001b[0m \u001b[32m━━━━━━━━━━━━━━━━━━━━\u001b[0m\u001b[37m\u001b[0m \u001b[1m84s\u001b[0m 477ms/step - accuracy: 0.8457 - loss: 0.3357 - val_accuracy: 0.7500 - val_loss: 0.4821\n",
            "Epoch 10/10\n",
            "\u001b[1m163/163\u001b[0m \u001b[32m━━━━━━━━━━━━━━━━━━━━\u001b[0m\u001b[37m\u001b[0m \u001b[1m76s\u001b[0m 469ms/step - accuracy: 0.8602 - loss: 0.3012 - val_accuracy: 0.6875 - val_loss: 2.6215\n",
            "Restoring model weights from the end of the best epoch: 9.\n",
            "\u001b[1m20/20\u001b[0m \u001b[32m━━━━━━━━━━━━━━━━━━━━\u001b[0m\u001b[37m\u001b[0m \u001b[1m4s\u001b[0m 178ms/step - accuracy: 0.8723 - loss: 0.3317\n"
          ]
        },
        {
          "output_type": "stream",
          "name": "stderr",
          "text": [
            "WARNING:absl:You are saving your model as an HDF5 file via `model.save()` or `keras.saving.save_model(model)`. This file format is considered legacy. We recommend using instead the native Keras format, e.g. `model.save('my_model.keras')` or `keras.saving.save_model(model, 'my_model.keras')`. \n"
          ]
        },
        {
          "output_type": "stream",
          "name": "stdout",
          "text": [
            "Test Accuracy: 0.7628\n"
          ]
        }
      ],
      "source": [
        "\n",
        "# ✅ Final model with best parameters from Optuna\n",
        "import tensorflow as tf\n",
        "from tensorflow.keras import layers, models, optimizers, initializers\n",
        "from sklearn.metrics import confusion_matrix, classification_report, ConfusionMatrixDisplay\n",
        "import matplotlib.pyplot as plt\n",
        "import numpy as np\n",
        "\n",
        "# Best parameters\n",
        "best_params = {\n",
        "    'filters': 64,\n",
        "    'kernel_size': 3,\n",
        "    'activation': 'relu',\n",
        "    'dropout': 0.4,\n",
        "    'lr': 0.001,\n",
        "    'optimizer': 'adam',\n",
        "    'dense_units': 128,\n",
        "    'init': 'glorot_uniform',\n",
        "    'batch_norm': True\n",
        "}\n",
        "\n",
        "# Build model\n",
        "def build_final_model(params):\n",
        "    model = models.Sequential()\n",
        "    model.add(layers.Input(shape=(150, 150, 3)))\n",
        "\n",
        "    model.add(layers.Conv2D(params['filters'], ((3,3)), activation=params['activation'],\n",
        "                            kernel_initializer=params['init'], padding='same'))\n",
        "    if params['batch_norm']:\n",
        "        model.add(layers.BatchNormalization())\n",
        "    model.add(layers.MaxPooling2D(2, 2))\n",
        "    model.add(layers.Dropout(params['dropout']))\n",
        "\n",
        "    model.add(layers.Conv2D(params['filters']*2,((3,3)), activation=params['activation'],\n",
        "                            kernel_initializer=params['init'], padding='same'))\n",
        "    if params['batch_norm']:\n",
        "        model.add(layers.BatchNormalization())\n",
        "    model.add(layers.MaxPooling2D(2, 2))\n",
        "    model.add(layers.Dropout(params['dropout']))\n",
        "\n",
        "    model.add(layers.Flatten())\n",
        "    model.add(layers.Dense(params['dense_units'], activation=params['activation'], kernel_initializer=params['init']))\n",
        "    model.add(layers.Dropout(params['dropout']))\n",
        "    model.add(layers.Dense(1, activation='sigmoid'))\n",
        "\n",
        "    return model\n",
        "\n",
        "model = build_final_model(best_params)\n",
        "\n",
        "# Compile\n",
        "optimizer_dict = {\n",
        "    'adam': optimizers.Adam(learning_rate=best_params['lr']),\n",
        "    'sgd': optimizers.SGD(learning_rate=best_params['lr']),\n",
        "    'rmsprop': optimizers.RMSprop(learning_rate=best_params['lr'])\n",
        "}\n",
        "model.compile(optimizer=optimizer_dict[best_params['optimizer']],\n",
        "              loss='binary_crossentropy',\n",
        "              metrics=['accuracy'])\n",
        "\n",
        "early_stopping = EarlyStopping(\n",
        "    monitor='val_loss',     # You can also use 'val_accuracy'\n",
        "    patience=3,             # Number of epochs to wait before stopping\n",
        "    restore_best_weights=True,\n",
        "    verbose=1\n",
        ")\n",
        "# Train the final model\n",
        "history = model.fit(train_data, validation_data=val_data, epochs=10, callbacks=[early_stopping])\n",
        "\n",
        "# Evaluate on test data\n",
        "test_loss, test_acc = model.evaluate(test_data)\n",
        "print(f\"Test Accuracy: {test_acc:.4f}\")\n",
        "\n",
        "# Save model\n",
        "model.save(\"pneumonia_best_model.h5\")\n",
        "\n",
        "\n"
      ]
    },
    {
      "cell_type": "code",
      "source": [
        "# Predict and plot confusion matrix\n",
        "# Compute steps\n",
        "steps = int(np.ceil(test_data.samples / test_data.batch_size))\n",
        "y_true = test_data.classes\n",
        "# Predict with known steps\n",
        "y_pred_prob = model.predict(\n",
        "    test_data,\n",
        "    steps=steps,\n",
        "    verbose=1,\n",
        "\n",
        ")\n",
        "\n",
        "\n",
        "\n",
        "y_pred = (y_pred_prob > 0.5).astype(\"int32\")\n",
        "\n",
        "cm = confusion_matrix(y_true, y_pred)\n",
        "disp = ConfusionMatrixDisplay(confusion_matrix=cm)\n",
        "disp.plot(cmap='Blues')\n",
        "plt.title(\"Confusion Matrix\")\n",
        "plt.show()"
      ],
      "metadata": {
        "colab": {
          "base_uri": "https://localhost:8080/",
          "height": 489
        },
        "id": "tNA5PYtEV7eq",
        "outputId": "ad97cd9e-14a1-4b70-ec5f-b62599766eb3"
      },
      "execution_count": 28,
      "outputs": [
        {
          "output_type": "stream",
          "name": "stdout",
          "text": [
            "\u001b[1m20/20\u001b[0m \u001b[32m━━━━━━━━━━━━━━━━━━━━\u001b[0m\u001b[37m\u001b[0m \u001b[1m6s\u001b[0m 232ms/step\n"
          ]
        },
        {
          "output_type": "display_data",
          "data": {
            "text/plain": [
              "<Figure size 640x480 with 2 Axes>"
            ],
            "image/png": "[encoded data removed]"
          },
          "metadata": {}
        }
      ]
    },
    {
      "cell_type": "code",
      "source": [
        "!cp pneumonia_best_model.h5 /content/drive/MyDrive/\n"
      ],
      "metadata": {
        "id": "Q8Ejv9Q8a4h8"
      },
      "execution_count": 30,
      "outputs": []
    },
    {
      "cell_type": "code",
      "source": [],
      "metadata": {
        "id": "nnKBSzsna6cr"
      },
      "execution_count": null,
      "outputs": []
    }
  ],
  "metadata": {
    "accelerator": "GPU",
    "colab": {
      "gpuType": "T4",
      "provenance": [],
      "include_colab_link": true
    },
    "kernelspec": {
      "display_name": "Python 3",
      "name": "python3"
    },
    "language_info": {
      "name": "python"
    }
  },
  "nbformat": 4,
  "nbformat_minor": 0
}